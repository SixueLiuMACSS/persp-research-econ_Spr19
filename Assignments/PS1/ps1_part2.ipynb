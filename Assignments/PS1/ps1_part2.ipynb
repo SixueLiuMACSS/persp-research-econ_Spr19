{
 "cells": [
  {
   "cell_type": "code",
   "execution_count": 32,
   "metadata": {},
   "outputs": [],
   "source": [
    "import pandas as pd \n",
    "\n",
    "import warnings\n",
    "warnings.filterwarnings(\"ignore\")\n",
    "\n",
    "Auto = pd.read_csv('data/Auto.csv',na_values = \"?\").dropna(inplace=True)\n",
    "Auto['orgn1'] = 0\n",
    "Auto.orgn1[Auto['origin']==1] = 1\n",
    "Auto['orgn2'] = 0\n",
    "Auto.orgn2[Auto['origin']==2] = 1\n",
    "Median = Auto['mpg'].median()\n",
    "Auto['mpg_high'] = 0\n",
    "Auto.mpg_high[Auto['mpg']>=Median] = 1"
   ]
  },
  {
   "cell_type": "code",
   "execution_count": 35,
   "metadata": {},
   "outputs": [
    {
     "name": "stdout",
     "output_type": "stream",
     "text": [
      "The average MSE is 0.8976086956521739\n",
      "This computation takes 0.18068643399965367 seconds\n"
     ]
    }
   ],
   "source": [
    "#a \n",
    "import time \n",
    "from sklearn.model_selection import train_test_split\n",
    "from sklearn.linear_model import LogisticRegression\n",
    "from statistics import mean, stdev\n",
    "\n",
    "y = Auto['mpg_high'].values\n",
    "X = Auto[['cylinders', 'displacement', 'horsepower', 'weight','acceleration', 'year', 'orgn1', 'orgn2']].values\n",
    "time_start1 = time.clock()\n",
    "MSE = []\n",
    "for i in range(100):\n",
    "    X_train, X_test, y_train, y_test = train_test_split(X, y, test_size = 0.35, random_state=i+100)\n",
    "    LogReg = LogisticRegression().fit(X_train, y_train)\n",
    "    y_pred = LogReg.predict(X_test)\n",
    "    MSE_now = (y_test == y_pred).mean()\n",
    "    MSE.append(MSE_now)\n",
    "MSE_avg = mean(MSE)\n",
    "time_end1 = time.clock()\n",
    "print('The average MSE is', MSE_avg)\n",
    "print('This computation takes',time_end1-time_start1,'seconds')"
   ]
  },
  {
   "cell_type": "code",
   "execution_count": 37,
   "metadata": {},
   "outputs": [
    {
     "name": "stdout",
     "output_type": "stream",
     "text": [
      "The average MSE is 0.8976086956521739\n",
      "This computation takes 0.17561892099911347 seconds\n"
     ]
    }
   ],
   "source": [
    "#b\n",
    "import multiprocessing\n",
    "from dask import compute, delayed\n",
    "import dask.multiprocessing\n",
    "\n",
    "def doublecheck(bootstrap, seed, Data):\n",
    "    X, y = Data\n",
    "    X_train, X_test, y_train, y_test = train_test_split(X, y, test_size = 0.35, random_state=seed+bootstrap)\n",
    "    LogReg = LogisticRegression().fit(X_train, y_train)\n",
    "    y_pred = LogReg.predict(X_test)\n",
    "    return (y_test == y_pred).mean()\n",
    "time_start2 = time.clock()\n",
    "MSE_2 = []\n",
    "for i in range(100):\n",
    "    MSE_2.append(delayed(doublecheck)(i, 100, [X, y]))\n",
    "MSE2_avg = delayed(mean)(MSE_2)\n",
    "MSE2_avg = compute(MSE2_avg, num_workers=num_cores)[0]\n",
    "time_end2 = time.clock()\n",
    "print('The average MSE is', MSE2_avg)\n",
    "print('This computation takes',time_end2-time_start2,'seconds')"
   ]
  },
  {
   "cell_type": "code",
   "execution_count": null,
   "metadata": {},
   "outputs": [],
   "source": []
  }
 ],
 "metadata": {
  "kernelspec": {
   "display_name": "Python 3",
   "language": "python",
   "name": "python3"
  },
  "language_info": {
   "codemirror_mode": {
    "name": "ipython",
    "version": 3
   },
   "file_extension": ".py",
   "mimetype": "text/x-python",
   "name": "python",
   "nbconvert_exporter": "python",
   "pygments_lexer": "ipython3",
   "version": "3.7.0"
  }
 },
 "nbformat": 4,
 "nbformat_minor": 2
}
